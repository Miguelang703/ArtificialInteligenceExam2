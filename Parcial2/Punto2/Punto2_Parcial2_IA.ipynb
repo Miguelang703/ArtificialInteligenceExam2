{
  "nbformat": 4,
  "nbformat_minor": 0,
  "metadata": {
    "colab": {
      "name": "Punto2_Parcial2_IA.ipynb",
      "provenance": [],
      "collapsed_sections": []
    },
    "kernelspec": {
      "name": "python3",
      "display_name": "Python 3"
    },
    "language_info": {
      "name": "python"
    }
  },
  "cells": [
    {
      "cell_type": "markdown",
      "metadata": {
        "id": "a7dj2CSQ3WEm"
      },
      "source": [
        "<div> \n",
        "<img src=\"https://res-5.cloudinary.com/crunchbase-production/image/upload/c_lpad,h_256,w_256,f_auto,q_auto:eco/v1455514364/pim02bzqvgz0hibsra41.png\" align=\"right\"><br><br><FONT FACE=\"times new roman\" SIZE=5>\n",
        "<b>Parcial 2 - Punto 2 </b>\n",
        "<br>\n",
        "<i><b>Estudiantes:</b></i> \n",
        "<br>\n",
        "Miguel Angel Rojas, Luis Felipe velasquez\n",
        "<br>\n",
        "<i><b>Docentes:</b></i> \n",
        "<br>\n",
        "Camilo Rodríguez\n",
        "<br>\n",
        "<i><b>Asignatura:</b></i> \n",
        "<br>\n",
        "Inteligencia Artificial\n",
        "\n",
        "</FONT>\n",
        "</div>"
      ]
    },
    {
      "cell_type": "markdown",
      "metadata": {
        "id": "3VpPR0Zb4eml"
      },
      "source": [
        "# **1. Clase Estado**"
      ]
    },
    {
      "cell_type": "code",
      "metadata": {
        "id": "BnHqmnlWXd6L"
      },
      "source": [
        "#este clase representa un estado en el algoritmo de costo uniforme\n",
        "class Estado:\n",
        "  #Constructor\n",
        "  def __init__(self, nombre,costo_acumulado=0):\n",
        "     self.nombre = nombre #Nombre de la ciudad\n",
        "     self.costo_acumulado = costo_acumulado #Costo cumulado en km\n",
        "     self.llegando_por = None # Estado del cual proviene este\n",
        "     self.estados_siguientes=[] #Son los estados correspondientes a las ciudaddes donde hay conexon\n",
        "\n",
        "  # un estado es igual que otro si tienen el mismo nombre\n",
        "  def __eq__(self, otro):\n",
        "    return self.nombre == otro.nombre\n",
        "\n",
        "  # un estado es menor que otro si su costo_acumulado es menor que el del otro\n",
        "  def __lt__(self, otro):\n",
        "    if self.costo_acumulado < otro.costo_acumulado:\n",
        "      return True\n",
        "    else:\n",
        "      return False\n",
        "  #un estado se conectan con otro estado cuando existe un enlace\n",
        "  def conecta_con(self,otro_estado,distancia):\n",
        "    self.estados_siguientes.append((otro_estado, distancia))#Se agrega una tupla al arreglo de estados_siguientes\n",
        "\n",
        "  def __str__(self):\n",
        "    return self.nombre\n",
        "\n",
        "  def __repr__(self):\n",
        "    return self.nombre\n",
        "  \n",
        "\n",
        "  "
      ],
      "execution_count": null,
      "outputs": []
    },
    {
      "cell_type": "markdown",
      "metadata": {
        "id": "5Y3oEpXn4zno"
      },
      "source": [
        "# **2. Datos Mapa Rumania**"
      ]
    },
    {
      "cell_type": "code",
      "metadata": {
        "id": "xC3Fpehml2Su"
      },
      "source": [
        "#Los datos representado en el mapa de Rumania se representaron en programacion de la siguiente manera:\n",
        "\n",
        "#Se coloco un arreglo donde estan insertadas todos los nombres las ciudades representadas en el mapa\n",
        "ciudades=['Arad','Zerind','Oradea','Timisoara','Lugoj','Mehadia','Drobeta','Craiova','Pitesti','Rimnicu Vilcea','sibiu',\n",
        "          'Fagaras','Bucharest','Giurgiu','Urziceni','Hirsova','Eforie','Vaslui','Iasi','Neamt'\n",
        "          ]\n",
        "#Luego,ara representar el grafo de las distanias y ciudades, se dedsarrollo un diccionario\n",
        "#Cada elemento del diccionario tiene otro diccionario, donde estan las ciudades con las cuales hay enlace con su respectiva distancia\n",
        "\n",
        "distanciasRumania={'Arad':{'Zerind':75,'Timisoara':118,'sibiu':140},\n",
        "                  'Zerind':{'Arad':75,'Oradea':71},\n",
        "                  'Oradea':{'Zerind':71,'sibiu':151},\n",
        "                  'Timisoara':{'Arad':118,'Lugoj':111},\n",
        "                  'Lugoj':{'Timisoara':111,'Mehadia':70},\n",
        "                  'Mehadia':{'Lugoj':70,'Drobeta':75},\n",
        "                  'Drobeta':{'Mehadia':75,'Craiova':120},\n",
        "                  'Craiova':{'Drobeta':120,'Rimnicu Vilcea':146,'Pitesti':138},\n",
        "                  'Pitesti':{'Craiova':138,'Rimnicu Vilcea':97,'Bucharest':101},\n",
        "                  'Rimnicu Vilcea':{'Craiova':146,'Pitesti':97,'sibiu':80},\n",
        "                  'sibiu':{'Arad':140,'Oradea':151,'Rimnicu Vilcea':80,'Fagaras':99},\n",
        "                  'Fagaras':{'sibiu':99,'Bucharest':211},\n",
        "                  'Bucharest':{'Fagaras':211,'Pitesti':101,'Giurgiu':90,'Urziceni':85},\n",
        "                  'Giurgiu':{'Bucharest':90},\n",
        "                  'Urziceni':{'Hirsova':98,'Bucharest':85,'Vaslui':142},\n",
        "                  'Hirsova':{'Urziceni':98,'Eforie':86},\n",
        "                  'Eforie':{'Hirsova':86},\n",
        "                  'Vaslui':{'Urziceni':142,'Iasi':92},\n",
        "                  'Iasi':{'Vaslui':92,'Neamt':87},\n",
        "                  'Neamt':{'Iasi':87}}"
      ],
      "execution_count": null,
      "outputs": []
    },
    {
      "cell_type": "markdown",
      "metadata": {
        "id": "xfV3LTrJ5N6N"
      },
      "source": [
        "# **3. Obtener objeto de un estado**"
      ]
    },
    {
      "cell_type": "code",
      "metadata": {
        "id": "NOXX7c1ZWi4n"
      },
      "source": [
        "#Obtner el objeto de un estado filtrandolo por el nombre de la ciudad\n",
        "def get_obj_estado(nombre,array_estados):\n",
        "  return list(filter(lambda i: i.nombre==nombre,array_estados))[0]"
      ],
      "execution_count": null,
      "outputs": []
    },
    {
      "cell_type": "markdown",
      "metadata": {
        "id": "rfSr8nAu5T57"
      },
      "source": [
        "# **4. Generar Estados posibles**"
      ]
    },
    {
      "cell_type": "code",
      "metadata": {
        "id": "xLI-W04oYZAg"
      },
      "source": [
        "#Funcion con la cual en base a un estado, se puede obtener a cuales ciudades puede seguir como estado\n",
        "def generar_estados_siguientes(actual,estadosMapa):\n",
        "  siguientes = [] \n",
        "  #Se itera el arrego de estados_siguientes para obtener a los que puede seguir\n",
        "  for estado in actual.estados_siguientes:\n",
        "      nuevo = Estado(nombre=estado[0].nombre,costo_acumulado=estado[1]) #por cada estado posible , se crea uno nuevo\n",
        "      nuevo.llegando_por = actual #El origen de este va a ser el actual \n",
        "      objOrigen=get_obj_estado(nuevo.nombre,estadosMapa) #Se obtiene el objeto para traer sus datos\n",
        "      nuevo.estados_siguientes=objOrigen.estados_siguientes # Se asignan los estados siguientes del nuevo objeto\n",
        "      nuevo.costo_acumulado += actual.costo_acumulado #Se asignan el nuevo costo acumulado del nuevo objeto\n",
        "      siguientes.append(nuevo) \n",
        "  return siguientes"
      ],
      "execution_count": null,
      "outputs": []
    },
    {
      "cell_type": "markdown",
      "metadata": {
        "id": "y1AynOor5biV"
      },
      "source": [
        "# **5. Agregar Estados a la Cola**"
      ]
    },
    {
      "cell_type": "code",
      "metadata": {
        "id": "fS0XRSRDa3kB"
      },
      "source": [
        "#para agregar un estadoa  ala cola se deben cumpler requisitos, esta funcion valida eso\n",
        "def agregar_a_la_cola(cola_prioridades, siguientes):\n",
        "  #Iteracion de los estados siguientes\n",
        "  for estado in siguientes:\n",
        "    if estado in cola_prioridades: #Si el estado esta en la cola, se psas a vallidar\n",
        "      indice = cola_prioridades.index(estado)\n",
        "      if estado < cola_prioridades[indice]:\n",
        "        cola_prioridades[indice] = estado # se debe toar el estado con menor costo acumulado\n",
        "    else:\n",
        "      cola_prioridades.append(estado)\n",
        "      #Retorna la cola con los estados posibles validados\n",
        "  return cola_prioridades"
      ],
      "execution_count": null,
      "outputs": []
    },
    {
      "cell_type": "markdown",
      "metadata": {
        "id": "Xsvqw7gK5iya"
      },
      "source": [
        "# **6. Obtener la Solución Final**"
      ]
    },
    {
      "cell_type": "code",
      "metadata": {
        "id": "FUako1y1xVyi"
      },
      "source": [
        "#Esta funcion busca la solucion de la ruta en base al algoritmo de costo uniforme\n",
        "def obtener_solucion(inicial,actual): #actual es el estado final ya que se itero\n",
        "  ruta = []\n",
        "  if  cola !=[]:\n",
        "    aux = actual \n",
        "    km=aux.costo_acumulado # Costo total de la ruta\n",
        "    while aux.llegando_por is not None: #ciclo hasta que no haya un origen, es decir Arad\n",
        "        ruta.append(aux) #Se agrega el origen de actual\n",
        "        aux = aux.llegando_por #se asigna el origen de la que se agrgo\n",
        "    ruta.append(inicial)\n",
        "    return (ruta[::-1],km)#retorna la ruta y el costo\n",
        "  else:\n",
        "    return None"
      ],
      "execution_count": null,
      "outputs": []
    },
    {
      "cell_type": "markdown",
      "metadata": {
        "id": "RPA9xtJq3TuS"
      },
      "source": [
        "# **7. Estados Iniciales**"
      ]
    },
    {
      "cell_type": "code",
      "metadata": {
        "id": "rQMCWTUGQNSD"
      },
      "source": [
        "#Se creo un estado de cada ciudad para tenerlas como base en el inicio del algoritmo\n",
        "#Creacion de los objetos estado para cada ciudad\n",
        "estados=[]\n",
        "for ciudad in ciudades:\n",
        "  estados.append(Estado(nombre=ciudad))\n",
        "\n",
        "#Se asigno a cada objeto estado los enlaces que tienen con otras ciudades\n",
        "for ciudadA in distanciasRumania:# iteracion del diccionario\n",
        "  for ciudadB in distanciasRumania[ciudadA]:## iteracion del diccionario en cierta ciudad\n",
        "    objA=get_obj_estado(ciudadA,estados) \n",
        "    objB=get_obj_estado(ciudadB,estados)\n",
        "    objA.conecta_con(objB,distanciasRumania[ciudadA][ciudadB]) #se conecto los dos estados "
      ],
      "execution_count": null,
      "outputs": []
    },
    {
      "cell_type": "markdown",
      "metadata": {
        "id": "xeyBTUUi5zae"
      },
      "source": [
        "# **8. busqueda por Costo Uniforme**"
      ]
    },
    {
      "cell_type": "code",
      "metadata": {
        "id": "IjU7cStdLB8t"
      },
      "source": [
        "#En el siguiente algoritmo, se representa la implementacion de busquedaa por costo uniforme\n",
        "estadoInicial=get_obj_estado('Arad',estados) #Estado donde inicial el recorrido\n",
        "estadoFinal=get_obj_estado('Bucharest',estados)#Estado donde finaliza el recorrido\n",
        "estadoActual=estadoInicial #El estado actual ser el inicial\n",
        "cola=[estadoActual] # la cola de prioridades atendra primero al inicial\n",
        "visitados=[] # Arreglo de estados visitados\n",
        "\n",
        "while cola != [] and estadoActual != estadoFinal: #Cliclo mientras la cola no esta vacio y el estado actual sea el final\n",
        "  cola.sort() #Se ordena la cola en base a los costos acumulados\n",
        "  estadoActual=cola[0] #se atiende al demenor costo\n",
        "  if estadoActual not in visitados: #Se vallida si el actual no esta en visitados \n",
        "    estadosSiguientes=generar_estados_siguientes(estadoActual,estados) #Se obtiene los estados sigientes en base al actual\n",
        "    cola=agregar_a_la_cola(cola,estadosSiguientes) #Se agregan a la cola , los que sean validados\n",
        "  cola.pop(0)#Se elmina de la cola el estado atendido"
      ],
      "execution_count": null,
      "outputs": []
    },
    {
      "cell_type": "markdown",
      "metadata": {
        "id": "XgVhFaxZ55cd"
      },
      "source": [
        "# **9. Resultados de la ruta mas corta**"
      ]
    },
    {
      "cell_type": "code",
      "metadata": {
        "colab": {
          "base_uri": "https://localhost:8080/"
        },
        "id": "8M7JS_1Q1fAb",
        "outputId": "f222f560-9fbe-40c3-e3da-09ccbdbee30c"
      },
      "source": [
        "#Para representra los resultados se desarrollo de la siguiente manera:\n",
        "solucion=obtener_solucion(estadoInicial,estadoActual) #Se obtuvo la solucion\n",
        "if solucion !=None:\n",
        "  print('La ruta mas optima entre las ciudades de '+estadoInicial.nombre+' y '+estadoFinal.nombre+'es: \\n')\n",
        "  ruta=''\n",
        "  for i in solucion[0]: ruta+=i.nombre+'  -->  '\n",
        "  print(ruta+'\\n\\nCosto de la ruta en km: '+str(solucion[1]))"
      ],
      "execution_count": null,
      "outputs": [
        {
          "output_type": "stream",
          "name": "stdout",
          "text": [
            "La ruta mas optima entre las ciudades de Arad y Bucharestes: \n",
            "\n",
            "Arad  -->  sibiu  -->  Rimnicu Vilcea  -->  Pitesti  -->  Bucharest  -->  \n",
            "\n",
            "Costo de la ruta en km: 418\n"
          ]
        }
      ]
    }
  ]
}