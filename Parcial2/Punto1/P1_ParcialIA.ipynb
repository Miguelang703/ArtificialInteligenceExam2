{
  "nbformat": 4,
  "nbformat_minor": 0,
  "metadata": {
    "colab": {
      "name": "P1_ParcialIA.ipynb",
      "provenance": [],
      "collapsed_sections": []
    },
    "kernelspec": {
      "name": "python3",
      "display_name": "Python 3"
    },
    "language_info": {
      "name": "python"
    },
    "widgets": {
      "application/vnd.jupyter.widget-state+json": {
        "cc6d5892f77e45868f12091a8d3d9c2f": {
          "model_module": "@jupyter-widgets/controls",
          "model_name": "HTMLModel",
          "model_module_version": "1.5.0",
          "state": {
            "_view_name": "HTMLView",
            "style": "IPY_MODEL_f8fc5c4cfdba4ebc918c98a2909f23fd",
            "_dom_classes": [],
            "description": "",
            "_model_name": "HTMLModel",
            "placeholder": "​",
            "_view_module": "@jupyter-widgets/controls",
            "_model_module_version": "1.5.0",
            "value": "",
            "_view_count": null,
            "_view_module_version": "1.5.0",
            "description_tooltip": null,
            "_model_module": "@jupyter-widgets/controls",
            "layout": "IPY_MODEL_ca31a7776cf8411296b6d5a1c60eedd0"
          }
        },
        "f8fc5c4cfdba4ebc918c98a2909f23fd": {
          "model_module": "@jupyter-widgets/controls",
          "model_name": "DescriptionStyleModel",
          "model_module_version": "1.5.0",
          "state": {
            "_view_name": "StyleView",
            "_model_name": "DescriptionStyleModel",
            "description_width": "",
            "_view_module": "@jupyter-widgets/base",
            "_model_module_version": "1.5.0",
            "_view_count": null,
            "_view_module_version": "1.2.0",
            "_model_module": "@jupyter-widgets/controls"
          }
        },
        "ca31a7776cf8411296b6d5a1c60eedd0": {
          "model_module": "@jupyter-widgets/base",
          "model_name": "LayoutModel",
          "model_module_version": "1.2.0",
          "state": {
            "_view_name": "LayoutView",
            "grid_template_rows": null,
            "right": null,
            "justify_content": null,
            "_view_module": "@jupyter-widgets/base",
            "overflow": null,
            "_model_module_version": "1.2.0",
            "_view_count": null,
            "flex_flow": null,
            "width": null,
            "min_width": null,
            "border": null,
            "align_items": null,
            "bottom": null,
            "_model_module": "@jupyter-widgets/base",
            "top": null,
            "grid_column": null,
            "overflow_y": null,
            "overflow_x": null,
            "grid_auto_flow": null,
            "grid_area": null,
            "grid_template_columns": null,
            "flex": null,
            "_model_name": "LayoutModel",
            "justify_items": null,
            "grid_row": null,
            "max_height": null,
            "align_content": null,
            "visibility": null,
            "align_self": null,
            "height": null,
            "min_height": null,
            "padding": null,
            "grid_auto_rows": null,
            "grid_gap": null,
            "max_width": null,
            "order": null,
            "_view_module_version": "1.2.0",
            "grid_template_areas": null,
            "object_position": null,
            "object_fit": null,
            "grid_auto_columns": null,
            "margin": null,
            "display": null,
            "left": null
          }
        },
        "f29cfee1518144ca8a1c1b5bc0897cb5": {
          "model_module": "@jupyter-widgets/controls",
          "model_name": "HTMLModel",
          "model_module_version": "1.5.0",
          "state": {
            "_view_name": "HTMLView",
            "style": "IPY_MODEL_13cc29b6bd634f2f85356a933944c0d4",
            "_dom_classes": [],
            "description": "",
            "_model_name": "HTMLModel",
            "placeholder": "​",
            "_view_module": "@jupyter-widgets/controls",
            "_model_module_version": "1.5.0",
            "value": "<table border='1'><tr><td style='height:40px;width:40px;'><div style='transform: rotate(0deg);font-size:30px;'>1️⃣</div></td><td style='height:40px;width:40px;'><div style='transform: rotate(0deg);font-size:30px;'>2️⃣</div></td><td style='height:40px;width:40px;'><div style='transform: rotate(0deg);font-size:30px;'>3️⃣</div></td></tr><tr><td style='height:40px;width:40px;'><div style='transform: rotate(0deg);font-size:30px;'>8️⃣</div></td><td style='height:40px;width:40px;'></td><td style='height:40px;width:40px;'><div style='transform: rotate(0deg);font-size:30px;'>4️⃣</div></td></tr><tr><td style='height:40px;width:40px;'><div style='transform: rotate(0deg);font-size:30px;'>7️⃣</div></td><td style='height:40px;width:40px;'><div style='transform: rotate(0deg);font-size:30px;'>6️⃣</div></td><td style='height:40px;width:40px;'><div style='transform: rotate(0deg);font-size:30px;'>5️⃣</div></td></tr></table>",
            "_view_count": null,
            "_view_module_version": "1.5.0",
            "description_tooltip": null,
            "_model_module": "@jupyter-widgets/controls",
            "layout": "IPY_MODEL_e14cc14f38184ef983ff1cf73e90d54a"
          }
        },
        "13cc29b6bd634f2f85356a933944c0d4": {
          "model_module": "@jupyter-widgets/controls",
          "model_name": "DescriptionStyleModel",
          "model_module_version": "1.5.0",
          "state": {
            "_view_name": "StyleView",
            "_model_name": "DescriptionStyleModel",
            "description_width": "",
            "_view_module": "@jupyter-widgets/base",
            "_model_module_version": "1.5.0",
            "_view_count": null,
            "_view_module_version": "1.2.0",
            "_model_module": "@jupyter-widgets/controls"
          }
        },
        "e14cc14f38184ef983ff1cf73e90d54a": {
          "model_module": "@jupyter-widgets/base",
          "model_name": "LayoutModel",
          "model_module_version": "1.2.0",
          "state": {
            "_view_name": "LayoutView",
            "grid_template_rows": null,
            "right": null,
            "justify_content": null,
            "_view_module": "@jupyter-widgets/base",
            "overflow": null,
            "_model_module_version": "1.2.0",
            "_view_count": null,
            "flex_flow": null,
            "width": null,
            "min_width": null,
            "border": null,
            "align_items": null,
            "bottom": null,
            "_model_module": "@jupyter-widgets/base",
            "top": null,
            "grid_column": null,
            "overflow_y": null,
            "overflow_x": null,
            "grid_auto_flow": null,
            "grid_area": null,
            "grid_template_columns": null,
            "flex": null,
            "_model_name": "LayoutModel",
            "justify_items": null,
            "grid_row": null,
            "max_height": null,
            "align_content": null,
            "visibility": null,
            "align_self": null,
            "height": null,
            "min_height": null,
            "padding": null,
            "grid_auto_rows": null,
            "grid_gap": null,
            "max_width": null,
            "order": null,
            "_view_module_version": "1.2.0",
            "grid_template_areas": null,
            "object_position": null,
            "object_fit": null,
            "grid_auto_columns": null,
            "margin": null,
            "display": null,
            "left": null
          }
        }
      }
    }
  },
  "cells": [
    {
      "cell_type": "markdown",
      "metadata": {
        "id": "LrWAGaRpkpSc"
      },
      "source": [
        "<div> \n",
        "<img src=\"https://res-5.cloudinary.com/crunchbase-production/image/upload/c_lpad,h_256,w_256,f_auto,q_auto:eco/v1455514364/pim02bzqvgz0hibsra41.png\" align=\"right\"><br><br><FONT FACE=\"times new roman\" SIZE=5>\n",
        "<b>Parcial 2 - Punto 1 </b>\n",
        "<br>\n",
        "<i><b>Estudiantes:</b></i> \n",
        "<br>\n",
        "Miguel Angel Rojas, Luis Felipe velasquez\n",
        "<br>\n",
        "<i><b>Docentes:</b></i> \n",
        "<br>\n",
        "Camilo Rodríguez\n",
        "<br>\n",
        "<i><b>Asignatura:</b></i> \n",
        "<br>\n",
        "Inteligencia Artificial\n",
        "\n",
        "</FONT>\n",
        "</div>"
      ]
    },
    {
      "cell_type": "markdown",
      "metadata": {
        "id": "SD53yh_6PTMb"
      },
      "source": [
        "# **1. Importación de librerias**"
      ]
    },
    {
      "cell_type": "code",
      "metadata": {
        "id": "5j6GBhrutJc_"
      },
      "source": [
        "from IPython.display import display\n",
        "from copy import copy,deepcopy\n",
        "import ipywidgets as widgets\n",
        "import time\n",
        "import random"
      ],
      "execution_count": null,
      "outputs": []
    },
    {
      "cell_type": "markdown",
      "metadata": {
        "id": "JgFBLYozPyah"
      },
      "source": [
        "## **2. Clase tablero**"
      ]
    },
    {
      "cell_type": "code",
      "metadata": {
        "id": "YpZQudTak2Kk"
      },
      "source": [
        "class Tablero:\n",
        "  #Contstructor de la clase\n",
        "  def __init__(self, tamanoCelda=(40, 40), nCeldas=None,ocupados=[],coordenadas=[]):\n",
        "    #Definición de los atributos\n",
        "    if nCeldas==None:\n",
        "      self.nCeldas = (3,3)\n",
        "    else:\n",
        "      self.nCeldas = nCeldas\n",
        "    self.out = widgets.HTML()\n",
        "    display(self.out)\n",
        "    self.tamanoCelda = tamanoCelda\n",
        "    self.ocupados=ocupados\n",
        "    self.coordenadas=[]\n",
        "\n",
        "  #Metodo que representa graficamente el tablero\n",
        "  def dibujar(self, objetos=[]):\n",
        "    tablero = \"<table border='1'>{}</table>\"\n",
        "    filas = \"\"\n",
        "    for i in range(self.nCeldas[1]):\n",
        "      s = \"\"              \n",
        "      for j in range(self.nCeldas[0]):\n",
        "        contenido =\"\"\n",
        "        for o in objetos:\n",
        "          if o.x == j and o.y == i:\n",
        "            contenido = \\\n",
        "            \"<div style='transform: rotate({angulo}deg);font-size:{tamanoEmoticon}px;'>{emoticon}</div>\".\\\n",
        "            format(angulo=o.angulo,tamanoEmoticon=o.tamanoEmoticon, emoticon=o.emoticon)     \n",
        "        s += \"<td style='height:{alto}px;width:{ancho}px;'>{contenido}</td>\".\\\n",
        "          format(alto=self.tamanoCelda[0], ancho=self.tamanoCelda[1], \n",
        "                contenido=contenido)\n",
        "      filas += \"<tr>{}</tr>\".format(s)\n",
        "    tablero = tablero.format(filas)\n",
        "    self.out.value=tablero\n"
      ],
      "execution_count": null,
      "outputs": []
    },
    {
      "cell_type": "markdown",
      "metadata": {
        "id": "dm2v7iqFP6Ht"
      },
      "source": [
        "## **3. Clase Agente_numero**"
      ]
    },
    {
      "cell_type": "code",
      "metadata": {
        "colab": {
          "base_uri": "https://localhost:8080/",
          "height": 21,
          "referenced_widgets": [
            "cc6d5892f77e45868f12091a8d3d9c2f",
            "f8fc5c4cfdba4ebc918c98a2909f23fd",
            "ca31a7776cf8411296b6d5a1c60eedd0"
          ]
        },
        "id": "7WbrLqL2mIWw",
        "outputId": "032928a9-769c-4dc3-89e8-6282602abd13"
      },
      "source": [
        "#La clase Agente_numero funciona para la graficación del problema\n",
        "class Agente_numero:\n",
        "  def __init__(self,numero=None, x=0, y=0, angulo=0, emoticon=\"❌ \", tamanoEmoticon=30,tablero=Tablero()):\n",
        "    self.numero=numero\n",
        "    self.x=x\n",
        "    self.y=y\n",
        "    self.angulo=angulo\n",
        "    self.emoticon=emoticon\n",
        "    self.tamanoEmoticon=tamanoEmoticon\n",
        "\n",
        "  #Con este mtodo, se mueve el objeto en posiciones x y y dentro del tablero\n",
        "  def moverNumero(self,x,y):\n",
        "    self.x=x\n",
        "    self.y=y"
      ],
      "execution_count": null,
      "outputs": [
        {
          "output_type": "display_data",
          "data": {
            "application/vnd.jupyter.widget-view+json": {
              "model_id": "cc6d5892f77e45868f12091a8d3d9c2f",
              "version_minor": 0,
              "version_major": 2
            },
            "text/plain": [
              "HTML(value='')"
            ]
          },
          "metadata": {}
        }
      ]
    },
    {
      "cell_type": "markdown",
      "metadata": {
        "id": "3cExtWj_QBdK"
      },
      "source": [
        "## **4. Clase estado**"
      ]
    },
    {
      "cell_type": "code",
      "metadata": {
        "id": "VS5hs_IGPjxi"
      },
      "source": [
        "#La clase estado representa un estado en el que puede estar el problema del pluzee\n",
        "class estado:\n",
        "    def __init__(self,array=[],origen=None):\n",
        "      self.array=array #Contiene el arreglo del estado, por ejemplo [3,None,4],[1,8,5],[7,2,6]\n",
        "      self.origen=origen  #Contiene el objeto del cual probiene este etado(subindice)\n",
        "\n",
        "    # Muestro del estado\n",
        "    def __str__(self):\n",
        "      return f'{self.array[0]}\\n {self.array[1]} \\n {self.array[2]}\\n'\n",
        "\n",
        "    #Validación de igualdad para dos objetos de esta clase\n",
        "    def __eq__(self, otro):\n",
        "      return self.array==otro.array\n",
        "    \n",
        "    def __repr__(self):\n",
        "      return self.__str__()\n",
        "\n",
        "    #En el siguiente metodo, se obtiene un arreglo de objetos, donde se toma como referencia un estado para sacar sus posibles estados siguentes\n",
        "    def getEstadosPosibles(self):\n",
        "        #declaración de variables\n",
        "        x=0;y=0;estados=[];objEstados=[]\n",
        "        estado_actual=self.array\n",
        "        #Cliclo para el numero de celdas del juego, el cual es 3\n",
        "        for i in range(3):\n",
        "          for j in range(3):\n",
        "            if estado_actual[i][j] == None: # Se encuentra la posición None, la cual es la vacia donde los otros numeros cercanos mueven mover\n",
        "              x=i;y=j\n",
        "        #A continuacion, se obtienen los estados posibles de acuerdo a la posicion del None, con el fin de que no se saliera del limite\n",
        "        if x>0:\n",
        "          nuevo=deepcopy(estado_actual) #Copia del estado base\n",
        "          #Se intercambian las posiones del None y el numero\n",
        "          nuevo[x][y]=nuevo[x-1][y]\n",
        "          nuevo[x-1][y]=None\n",
        "          estados.append(nuevo)#Se agrega al arreglo de estados\n",
        "        if x<2:\n",
        "          nuevo=deepcopy(estado_actual) #Copia del estado base\n",
        "          #Se intercambian las posiones del None y el numero\n",
        "          nuevo[x][y]=nuevo[x+1][y]\n",
        "          nuevo[x+1][y]=None\n",
        "          estados.append(nuevo)\n",
        "\n",
        "        if y>0:\n",
        "          nuevo=deepcopy(estado_actual) #Copia del estado base\n",
        "          #Se intercambian las posiones del None y el numero\n",
        "          nuevo[x][y]=nuevo[x][y-1]\n",
        "          nuevo[x][y-1]=None\n",
        "          estados.append(nuevo)#Se agrega al arreglo de estados\n",
        "        if y<2:\n",
        "          nuevo=deepcopy(estado_actual) #Copia del estado base\n",
        "          #Se intercambian las posiones del None y el numero\n",
        "          nuevo[x][y]=nuevo[x][y+1]\n",
        "          nuevo[x][y+1]=None\n",
        "          estados.append(nuevo)#Se agrega al arreglo de estados\n",
        "        #Se crea el arreglo de objetos en base a los estados obtenidos y el origen es self porque de este con respecto a este estado se obtuvo\n",
        "        for i in estados: objEstados.append(estado(array=i,origen=self))\n",
        "        return objEstados #Retorno del arreglo de objetos"
      ],
      "execution_count": null,
      "outputs": []
    },
    {
      "cell_type": "code",
      "metadata": {
        "id": "BPaHhk3OtQ5u"
      },
      "source": [
        "coordenadas=[]\n",
        "def get_randomxy():\n",
        "    while (True):\n",
        "      cor=(random.randint(0,2),random.randint(0,2))\n",
        "      if not cor in coordenadas :\n",
        "        break\n",
        "    coordenadas.append(cor)\n",
        "    return cor"
      ],
      "execution_count": null,
      "outputs": []
    },
    {
      "cell_type": "markdown",
      "metadata": {
        "id": "Eqx8MEslQMcY"
      },
      "source": [
        "## **5. Metodo Obtenersolucion**"
      ]
    },
    {
      "cell_type": "code",
      "metadata": {
        "id": "L8ZBoj52Xbm5"
      },
      "source": [
        "#Con este metodo, luego de hacer el algoritmo de BFS, se puede obtener la solucion mas optima para solucionar el juego\n",
        "def obtenerSolucion(visitados): #Como argumento esta los visitados para conocer el orden que se desarrollo\n",
        "  solucion=[visitados[-1]] #ultima posición\n",
        "  a=len(visitados) #Tamaño del array visitados\n",
        "  for i in reversed(visitados): # Se itera en reversa para conocer los origenes de cada estado\n",
        "    a-=1\n",
        "    ante=solucion[-1].origen.array #Origen del estado a evaluar\n",
        "    if a!=0:\n",
        "      if i.array==ante: # si el origen de estado es igual al que se esta iterando, se agrega al array de solucion\n",
        "        solucion.append(i)\n",
        "  return solucion[::-1] #Se retorna el array de solucion al reves"
      ],
      "execution_count": null,
      "outputs": []
    },
    {
      "cell_type": "markdown",
      "metadata": {
        "id": "-Z4E78VWQfVh"
      },
      "source": [
        "## **6. Metodo CambiarEstadotablero**"
      ]
    },
    {
      "cell_type": "code",
      "metadata": {
        "id": "ikilpbvNQIIH"
      },
      "source": [
        "#Con esta funcion, se cambian las posiciones de los numeros en el tablero en base a los estados\n",
        "def cambiarEstadoTablero(numeros,estado_actual):\n",
        "  for i in range(3):#el rango es 3 porque el juego es 3x3\n",
        "    for j in range(3):\n",
        "        estado=estado_actual.array[i][j] #Se obtiene el numero en cierta posicion\n",
        "        num=list(filter(lambda i: i.numero == estado , numeros)) #Filtrado par conocer el objeto corresppondient al numero de la posicion validada\n",
        "        if estado!=None:\n",
        "          num[0].moverNumero(j,i)#Se mueve el numero en el tablero"
      ],
      "execution_count": null,
      "outputs": []
    },
    {
      "cell_type": "code",
      "metadata": {
        "id": "3pFXFVS3uoEy"
      },
      "source": [
        "# Estado Inicial\n",
        "# estadoIncial= [[None,None,None],[None,None,None],[None,None,None]]\n",
        "# for i in range(8):\n",
        "#     ran=get_randomxy()\n",
        "#     estadoIncial[ran[0]][ran[1]]=i+1"
      ],
      "execution_count": null,
      "outputs": []
    },
    {
      "cell_type": "markdown",
      "metadata": {
        "id": "kX9XdEn9Qlkw"
      },
      "source": [
        "## **7. Estados Iniciales**"
      ]
    },
    {
      "cell_type": "code",
      "metadata": {
        "id": "QxouQjU8vcli"
      },
      "source": [
        "#Se tomo un arreglo de diferentes configuraciones iniciales para el juego, \n",
        "#debido a que si se colocaba random,algunas de estos estados iniciales podian consumir gran parte de la memoria de la maquina\n",
        "estadosIniciales=[[[3,None,4],[1,8,5],[7,2,6]] ,[[3,None,4],[1,8,5],[7,2,6]],[[8,1,4],[7,None,3],[2,6,5]] ] #Arreglo de algunas de las configuraciones iniciales\n",
        "arrayIncial=estadosIniciales[random.randint(0,len(estadosIniciales)-1)] # Se elige una configuracion random del arreglo anterior\n",
        "arrayFinal=[[1,2,3],[8,None,4],[7,6,5]] # Arreglo que tiene el estado objetivo, es decir el final del juego"
      ],
      "execution_count": null,
      "outputs": []
    },
    {
      "cell_type": "code",
      "metadata": {
        "colab": {
          "base_uri": "https://localhost:8080/"
        },
        "id": "Js8633wpWOeO",
        "outputId": "af17659b-4372-4896-9a1a-28bed56af94a"
      },
      "source": [
        "#Se puede apreciar el estado inicial \n",
        "arrayIncial"
      ],
      "execution_count": null,
      "outputs": [
        {
          "output_type": "execute_result",
          "data": {
            "text/plain": [
              "[[8, 1, 4], [7, None, 3], [2, 6, 5]]"
            ]
          },
          "metadata": {},
          "execution_count": 21
        }
      ]
    },
    {
      "cell_type": "markdown",
      "metadata": {
        "id": "Q9N1LPI7QrxX"
      },
      "source": [
        "## **8. Busqueda en anchura(BFS)**"
      ]
    },
    {
      "cell_type": "code",
      "metadata": {
        "colab": {
          "base_uri": "https://localhost:8080/"
        },
        "id": "NQxXxeWPvtku",
        "outputId": "3d7b2e55-ddd3-4fc4-aa0f-48767156eaa1"
      },
      "source": [
        "# A continuación se desarrolla la implentacion del aloritmo BFS acorde al juego pluze\n",
        "estadoActual=estado(array=arrayIncial) #Se crea el objeto estado correspondinet al inicial\n",
        "estadoFinal=estado(array=arrayFinal)#Se crea el objeto estado correspondinet al final u objetivo\n",
        "cola=[estadoActual] # el array cola tendra los estados posibles para cada configracion, se inicializa con el actual porque es el primero a atender\n",
        "visitados=[] # Tendra los estados  por los que ya se paso y que son diferentes al estado final\n",
        "#Ciclo que se repite mientras el estado actual es diferente al objetivo\n",
        "while estadoActual !=estadoFinal:\n",
        "  estadoActual=cola.pop(0) # Se elimina la primera poicion de la cola \n",
        "  if not estadoActual in visitados: # Si es estado actual no esta en visitados, se agrega el estado a visitados para que no vuelva pasar por este\n",
        "    visitados.append(estadoActual)\n",
        "  nuevosEstados=estadoActual.getEstadosPosibles() #Se generan todos los estados posibles de acuerdo al actual\n",
        "  for i in nuevosEstados: #Se iteran los estados posibles\n",
        "    if not i in visitados:#Si estso no estan en visitados se agregan a la cola para que sean atendidos\n",
        "      cola.append(i)\n",
        "print(estadoActual.array) #Impresion del estado Actual luego de la ejecucion"
      ],
      "execution_count": null,
      "outputs": [
        {
          "output_type": "stream",
          "name": "stdout",
          "text": [
            "[[1, 2, 3], [8, None, 4], [7, 6, 5]]\n"
          ]
        }
      ]
    },
    {
      "cell_type": "markdown",
      "metadata": {
        "id": "qy1kqqeOQ9WG"
      },
      "source": [
        "## **9. Graficación de la solución**"
      ]
    },
    {
      "cell_type": "code",
      "metadata": {
        "colab": {
          "base_uri": "https://localhost:8080/",
          "height": 163,
          "referenced_widgets": [
            "f29cfee1518144ca8a1c1b5bc0897cb5",
            "13cc29b6bd634f2f85356a933944c0d4",
            "e14cc14f38184ef983ff1cf73e90d54a"
          ]
        },
        "id": "XwXR8T9Zds9p",
        "outputId": "e39244b8-8b38-4817-d22b-07e8f2bf0ada"
      },
      "source": [
        "escenario=Tablero() #Creación del objeto tablero\n",
        "emoticonNumeros=['1️⃣','2️⃣','3️⃣','4️⃣','5️⃣','6️⃣','7️⃣','8️⃣'] #Emojis a utilizar en el tablero\n",
        "numeros=[]\n",
        "aux=0 \n",
        "#a el array numeros, se agregar los objetos numeros para la graficacion:\n",
        "for i in emoticonNumeros:\n",
        "    aux+=1\n",
        "    numeros.append(Agente_numero(numero=aux,tablero=escenario,emoticon=i))\n",
        "\n",
        "sol=obtenerSolucion(visitados) #Se obtiene la solucion optima del juego \n",
        "for i in sol:#Iteración de el arreglo solucion\n",
        "  cambiarEstadoTablero(numeros,i) #Por cada estado de la solucion se cambia el estad del tablero\n",
        "  escenario.dibujar(objetos=numeros)#Por cada estado de la solucion se cambia el dibuja el tablero\n",
        "  time.sleep(1)"
      ],
      "execution_count": null,
      "outputs": [
        {
          "output_type": "display_data",
          "data": {
            "application/vnd.jupyter.widget-view+json": {
              "model_id": "f29cfee1518144ca8a1c1b5bc0897cb5",
              "version_minor": 0,
              "version_major": 2
            },
            "text/plain": [
              "HTML(value='')"
            ]
          },
          "metadata": {}
        }
      ]
    },
    {
      "cell_type": "code",
      "metadata": {
        "id": "r20c2Vl9Sg2_"
      },
      "source": [
        ""
      ],
      "execution_count": null,
      "outputs": []
    }
  ]
}